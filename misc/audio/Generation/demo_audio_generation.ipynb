{
 "cells": [
  {
   "cell_type": "markdown",
   "metadata": {},
   "source": [
    "# SDialog dependencies"
   ]
  },
  {
   "cell_type": "code",
   "execution_count": 1,
   "metadata": {},
   "outputs": [],
   "source": [
    "import os\n",
    "import json\n",
    "from tqdm import tqdm"
   ]
  },
  {
   "cell_type": "code",
   "execution_count": 2,
   "metadata": {},
   "outputs": [
    {
     "name": "stderr",
     "output_type": "stream",
     "text": [
      "/Users/yanislabrak/opt/miniconda3/envs/flask/lib/python3.9/site-packages/tqdm/auto.py:21: TqdmWarning: IProgress not found. Please update jupyter and ipywidgets. See https://ipywidgets.readthedocs.io/en/stable/user_install.html\n",
      "  from .autonotebook import tqdm as notebook_tqdm\n"
     ]
    }
   ],
   "source": [
    "import sdialog\n",
    "from sdialog import Dialog\n",
    "from sdialog.generators import PersonaGenerator\n",
    "from sdialog.personas import Persona, PersonaAgent, Doctor, Patient, Agent"
   ]
  },
  {
   "cell_type": "markdown",
   "metadata": {},
   "source": [
    "# Generate Persona"
   ]
  },
  {
   "cell_type": "code",
   "execution_count": null,
   "metadata": {},
   "outputs": [],
   "source": [
    "persona_card_folder = \"./personas\"\n",
    "MODEL_NAME = \"gemma3:4b\"\n",
    "\n",
    "# Generate doctor persona\n",
    "doctor_persona = Doctor(\n",
    "    name=\"Dr. Smith\",\n",
    "    gender=\"male\",\n",
    "    age=52,\n",
    "    specialty=\"Family Medicine\"\n",
    ")\n",
    "generator_doctor = PersonaGenerator(doctor_persona, model=MODEL_NAME)\n",
    "persona_cards = generator_doctor.generate(n=1)\n",
    "persona_cards[0].to_file(f\"{persona_card_folder}/persona_doctor.json\")\n",
    "\n",
    "# Generate patient persona\n",
    "patient_persona = Patient(\n",
    "    name=\"John Doe\",\n",
    "    gender=\"male\",\n",
    "    age=62\n",
    ")\n",
    "generator_patient = PersonaGenerator(patient_persona, model=MODEL_NAME)\n",
    "persona_cards = generator_patient.generate(n=1)\n",
    "persona_cards[0].to_file(f\"{persona_card_folder}/persona_patient.json\")\n"
   ]
  },
  {
   "cell_type": "markdown",
   "metadata": {},
   "source": [
    "# Load persona"
   ]
  },
  {
   "cell_type": "code",
   "execution_count": null,
   "metadata": {},
   "outputs": [],
   "source": [
    "# Load personas\n",
    "persona_doctor = Persona.from_file(\"./personas/persona_doctor.json\")\n",
    "persona_patient = Persona.from_file(\"./personas/persona_patient.json\")\n",
    "\n",
    "# Create agents\n",
    "agent1 = PersonaAgent(persona=persona_doctor, model=\"gemma3:4b\", name=\"DOCTOR\")\n",
    "agent2 = PersonaAgent(persona=persona_patient, model=\"gemma3:4b\", name=\"PATIENT\")"
   ]
  },
  {
   "cell_type": "code",
   "execution_count": 10,
   "metadata": {},
   "outputs": [],
   "source": [
    "save_all = False\n",
    "GENERATE_PERSONA = True\n",
    "FORCE_DIALOG_GENERATION = False\n",
    "\n",
    "os.makedirs(\"./outputs\", exist_ok=True)"
   ]
  },
  {
   "cell_type": "code",
   "execution_count": null,
   "metadata": {},
   "outputs": [],
   "source": [
    "if FORCE_DIALOG_GENERATION:\n",
    "\n",
    "    dialog = agent1.talk_with(agent2)\n",
    "    dialog.to_file(\"dialog_demo.json\")\n",
    "\n",
    "else:\n",
    "    dialog = Dialog.from_file(\"dialog_demo.json\")\n",
    "\n",
    "dialog.print()"
   ]
  },
  {
   "cell_type": "markdown",
   "metadata": {},
   "source": [
    "# Audio dependencies"
   ]
  },
  {
   "cell_type": "code",
   "execution_count": null,
   "metadata": {},
   "outputs": [],
   "source": [
    "from sdialog.audio.voice_database import DummyVoiceDatabase\n",
    "from sdialog.audio.tts_engine import KokoroTTS # ChatterboxTTS, XttsTTS\n",
    "from sdialog.audio.audio_events_enricher import AudioEventsEnricher\n",
    "from sdialog.audio import dialog_to_audio, to_wav, generate_utterances_audios\n",
    "from sdialog.audio.evaluation import compute_evaluation_utterances, compute_evaluation_audio"
   ]
  },
  {
   "cell_type": "markdown",
   "metadata": {},
   "source": [
    "# Instantiating voices database"
   ]
  },
  {
   "cell_type": "code",
   "execution_count": null,
   "metadata": {},
   "outputs": [],
   "source": [
    "dummy_voice_database = DummyVoiceDatabase()\n",
    "print(\"Instantiating voice database...\")"
   ]
  },
  {
   "cell_type": "markdown",
   "metadata": {},
   "source": [
    "# Instantiating TTS pipeline"
   ]
  },
  {
   "cell_type": "code",
   "execution_count": null,
   "metadata": {},
   "outputs": [],
   "source": [
    "tts_pipeline = KokoroTTS()\n",
    "# tts_pipeline = ChatterboxTTS()\n",
    "# tts_pipeline = XttsTTS()\n",
    "print(\"Instantiating TTS pipeline...\")"
   ]
  },
  {
   "cell_type": "code",
   "execution_count": null,
   "metadata": {},
   "outputs": [],
   "source": [
    "audio_res = dialog_to_audio(dialog, voice_database=dummy_voice_database, tts_pipeline=tts_pipeline)"
   ]
  },
  {
   "cell_type": "code",
   "execution_count": 16,
   "metadata": {},
   "outputs": [],
   "source": [
    "if save_all:\n",
    "\n",
    "    # Saving individual utterances audios\n",
    "    os.makedirs(\"./outputs/utterances\", exist_ok=True)\n",
    "    for idx, (utterance, speaker) in enumerate(audio_res[\"utterances_audios\"]):\n",
    "        to_wav(utterance, f\"./outputs/utterances/{idx}_{speaker}_utterance.wav\")\n",
    "\n",
    "    # Saving audio step 1: no room accoustics and audios events\n",
    "    to_wav(audio_res[\"audio\"], \"./outputs/dialog_audio_step1.wav\")"
   ]
  },
  {
   "cell_type": "code",
   "execution_count": null,
   "metadata": {},
   "outputs": [],
   "source": [
    "# Enriching the dialog with audio events and generate the timeline of audio events and utterances\n",
    "enricher = AudioEventsEnricher()\n",
    "timeline = enricher.extract_events(dialog, audio_res[\"utterances_audios\"])\n",
    "timeline.print()\n",
    "\n",
    "# Drawing the timeline\n",
    "timeline.draw(\"./outputs/timeline.png\")"
   ]
  },
  {
   "cell_type": "code",
   "execution_count": null,
   "metadata": {},
   "outputs": [],
   "source": [
    "compute_evaluation_utterances(audio_res[\"utterances_audios\"], dialog)\n",
    "compute_evaluation_audio(audio_res[\"audio\"], dialog)"
   ]
  }
 ],
 "metadata": {
  "kernelspec": {
   "display_name": "flask",
   "language": "python",
   "name": "python3"
  },
  "language_info": {
   "codemirror_mode": {
    "name": "ipython",
    "version": 3
   },
   "file_extension": ".py",
   "mimetype": "text/x-python",
   "name": "python",
   "nbconvert_exporter": "python",
   "pygments_lexer": "ipython3",
   "version": "3.9.16"
  }
 },
 "nbformat": 4,
 "nbformat_minor": 2
}
